{
 "cells": [
  {
   "cell_type": "markdown",
   "metadata": {
    "collapsed": true
   },
   "source": [
    "# Given a list_of_ints, find the highest_product you can get from three of the integers.\n",
    "\n",
    "The input list_of_ints will always have at least three integers.\n",
    "\n",
    "---\n",
    "\n",
    "## Gotchas\n",
    "\n",
    "Does your function work with negative numbers? If list_of_ints is [−10,−10,1,3,2] we should return 300 (which we get by taking -10 * -10 * 3−10∗−10∗3)."
   ]
  }
 ],
 "metadata": {
  "kernelspec": {
   "display_name": "Python 3",
   "language": "python",
   "name": "python3"
  },
  "language_info": {
   "codemirror_mode": {
    "name": "ipython",
    "version": 3.0
   },
   "file_extension": ".py",
   "mimetype": "text/x-python",
   "name": "python",
   "nbconvert_exporter": "python",
   "pygments_lexer": "ipython3",
   "version": "3.5.2"
  }
 },
 "nbformat": 4,
 "nbformat_minor": 0
}