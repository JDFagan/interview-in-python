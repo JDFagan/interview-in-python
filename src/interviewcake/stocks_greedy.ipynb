{
 "cells": [
  {
   "cell_type": "markdown",
   "metadata": {
    "collapsed": true
   },
   "source": [
    "# Writing programming interview questions hasn't made me rich. Maybe trading Apple stocks will.\n",
    "\n",
    "Suppose we could access yesterday's stock prices as a list, where:\n",
    "\n",
    "* The indices are the time in minutes past trade opening time, which was 9:30am local time. \n",
    "* The values are the price in dollars of Apple stock at that time. \n",
    "\n",
    "So if the stock cost $500 at 10:30am, `stock_prices_yesterday[60] = 500`.\n",
    "\n",
    "Write an efficient function that takes stock_prices_yesterday and returns **the best profit I could have made from 1 purchase and 1 sale of 1 Apple stock yesterday**.\n",
    "\n",
    "For example:\n",
    "\n",
    "> ```python\n",
    "> stock_prices_yesterday = [10, 7, 5, 8, 11, 9]\n",
    "> \n",
    "> get_max_profit(stock_prices_yesterday)\n",
    "> # returns 6 (buying for $5 and selling for $11)\n",
    "> ```\n"
   ]
  },
  {
   "cell_type": "markdown",
   "metadata": {},
   "source": [
    "---"
   ]
  },
  {
   "cell_type": "markdown",
   "metadata": {},
   "source": [
    "# Gotchas\n",
    "\n",
    "**It is not sufficient to simply take the difference between the highest price and the lowest price**, because the highest price may come before the lowest price. You must buy before you sell."
   ]
  },
  {
   "cell_type": "markdown",
   "metadata": {},
   "source": [
    "---"
   ]
  },
  {
   "cell_type": "markdown",
   "metadata": {},
   "source": [
    "What if the stock value *goes down all day*? In that case, the best profit will be **negative**."
   ]
  },
  {
   "cell_type": "markdown",
   "metadata": {},
   "source": [
    "---"
   ]
  },
  {
   "cell_type": "markdown",
   "metadata": {},
   "source": [
    "You can do this in *O*(*n*) time and *O*(1) space!"
   ]
  },
  {
   "cell_type": "markdown",
   "metadata": {},
   "source": [
    "---"
   ]
  },
  {
   "cell_type": "markdown",
   "metadata": {},
   "source": [
    "# Breakdown\n",
    "\n",
    "To start, try writing an example value for stock_prices_yesterday and finding the maximum profit \"by hand.\" What's your process for figuring out the maximum profit?\n",
    "\n",
    "The brute force ↴ approach would be to try *every pair of times* (treating the earlier time as the buy time and the later time as the sell time) and see which one is higher.\n",
    "\n",
    "> A **brute force** algorithm simply enumerates all possible answers to the question and checks them for correctness.\n",
    "> \n",
    "> It's seldom the most efficient approach, but it can be helpful to consider the time cost of the brute force approach when building an optimized solution. If your solution isn't faster than the brute force approach, it may not be optimal."
   ]
  },
  {
   "cell_type": "code",
   "execution_count": 1,
   "metadata": {
    "collapsed": true
   },
   "outputs": [],
   "source": [
    "def get_max_profit(stock_prices_yesterday):\n",
    "\n",
    "    max_profit = 0\n",
    "\n",
    "    # go through every time\n",
    "    for outer_time in xrange(len(stock_prices_yesterday)):\n",
    "\n",
    "        # for every time, go through every OTHER time\n",
    "        for inner_time in xrange(len(stock_prices_yesterday)):\n",
    "\n",
    "            # for each pair, find the earlier and later times\n",
    "            earlier_time = min(outer_time, inner_time)\n",
    "            later_time   = max(outer_time, inner_time)\n",
    "\n",
    "            # and use those to find the earlier and later prices\n",
    "            earlier_price = stock_prices_yesterday[earlier_time]\n",
    "            later_price   = stock_prices_yesterday[later_time]\n",
    "\n",
    "            # see what our profit would be if we bought at the\n",
    "            # earlier price and sold at the later price\n",
    "            potential_profit = later_price - earlier_price\n",
    "\n",
    "            # update max_profit if we can do better\n",
    "            max_profit = max(max_profit, potential_profit)\n",
    "\n",
    "    return max_profit"
   ]
  },
  {
   "cell_type": "markdown",
   "metadata": {},
   "source": [
    "But that will take *O*(*n*^2) time, since we have two nested loops—for *every* time, we're going through *every other* time. Can we do better?\n",
    "\n",
    "Well, we’re doing a lot of extra work. We’re looking at every pair *twice*. We know we have to buy before we sell, so in our *inner for loop* we could just look at every price **after** the price in our *outer for loop*.\n",
    "\n",
    "That could look like this:"
   ]
  },
  {
   "cell_type": "code",
   "execution_count": 2,
   "metadata": {
    "collapsed": true
   },
   "outputs": [],
   "source": [
    "def get_max_profit(stock_prices_yesterday):\n",
    "\n",
    "    max_profit = 0\n",
    "\n",
    "    # go through every price (with its index as the time)\n",
    "    for earlier_time, earlier_price in enumerate(stock_prices_yesterday):\n",
    "\n",
    "        # and go through all the LATER prices\n",
    "        for later_price in stock_prices_yesterday[earlier_time+1:]:\n",
    "\n",
    "            # see what our profit would be if we bought at the\n",
    "            # earlier price and sold at the later price\n",
    "            potential_profit = later_price - earlier_price\n",
    "\n",
    "            # update max_profit if we can do better\n",
    "            max_profit = max(max_profit, potential_profit)\n",
    "\n",
    "    return max_profit"
   ]
  },
  {
   "cell_type": "markdown",
   "metadata": {},
   "source": [
    "### What's our runtime now?\n",
    "\n",
    "Well, our outer for loop goes through all the times and prices, but our inner for loop goes through one fewer price each time. So our total number of steps is the sum n + (n - 1) + (n - 2) ... + 2 + 1n+(n−1)+(n−2)...+2+1 ↴ , which is still O(n^2) time.\n",
    "\n",
    "We can do better!\n",
    "\n",
    "If we're going to do better than O(n^2), we're probably going to do it in either O(n lg(n)) or O(n). O(n lg(n)) comes up in sorting and searching algorithms where we're recursively cutting the set in half. It's not obvious that we can save time by cutting the set in half here. Let's first see how well we can do by looping through the set only once.\n",
    "\n",
    "Since we're trying to loop through the set once, let's use a greedy ↴ approach, where we keep a running max_profit until we reach the end. We'll start our max_profit at $0. As we're iterating, how do we know if we've found a new max_profit?\n",
    "\n",
    "> A greedy algorithm iterates through the problem space taking the optimal solution \"so far,\" until it reaches the end.\n",
    "> \n",
    "> The greedy approach is only optimal if the problem has \"optimal substructure,\" which means stitching together optimal solutions to subproblems yields an optimal solution.\n",
    "\n",
    "At each iteration, our max_profit is either:\n",
    "\n",
    "1. the same as the max_profit at the last time step, or\n",
    "1. the max profit we can get by selling at the current_price\n",
    "\n",
    "How do we know when we have case (2)?\n",
    "\n",
    "The max profit we can get by selling at the current_price is simply the difference between the current_price and the min_price from earlier in the day. If this difference is greater than the current max_profit, we have a new max_profit.\n",
    "\n",
    "So for every price, we’ll need to:\n",
    "\n",
    "* keep track of the lowest price we’ve seen so far\n",
    "* see if we can get a better profit\n",
    "\n",
    "Here’s one possible solution:"
   ]
  },
  {
   "cell_type": "code",
   "execution_count": 3,
   "metadata": {
    "collapsed": true
   },
   "outputs": [],
   "source": [
    "def get_max_profit(stock_prices_yesterday):\n",
    "\n",
    "    min_price = stock_prices_yesterday[0]\n",
    "    max_profit = 0\n",
    "\n",
    "    for current_price in stock_prices_yesterday:\n",
    "\n",
    "        # ensure min_price is the lowest price we've seen so far\n",
    "        min_price = min(min_price, current_price)\n",
    "\n",
    "        # see what our profit would be if we bought at the\n",
    "        # min price and sold at the current price\n",
    "        potential_profit = current_price - min_price\n",
    "\n",
    "        # update max_profit if we can do better\n",
    "        max_profit = max(max_profit, potential_profit)\n",
    "\n",
    "    return max_profit"
   ]
  },
  {
   "cell_type": "markdown",
   "metadata": {},
   "source": [
    "We’re finding the max profit with one pass and constant space!\n",
    "\n",
    "Are we done? Let’s think about some edge cases. What if the stock value stays the same? What if the stock value goes down all day?\n",
    "\n",
    "If the stock price doesn't change, the max possible profit is 0. Our function will correctly return that. So we're good.\n",
    "\n",
    "But if the value goes down all day, we’re in trouble. Our function would return 0, but there’s no way we could break even if the price always goes down.\n",
    "\n",
    "How can we handle this?\n",
    "\n",
    "Well, what are our options? Leaving our function as it is and just returning zero is not a reasonable option—we wouldn't know if our best profit was negative or actually zero, so we'd be losing information. Two reasonable options could be:\n",
    "\n",
    "1. return a negative profit. “What’s the least badly we could have done?”\n",
    "1. throw an error. “We should not have purchased stocks yesterday!”\n",
    "\n",
    "In this case, it’s probably best to go with option (1). The advantages of returning a negative profit are:\n",
    "\n",
    "* We more accurately answer the challenge. If profit is \"revenue minus expenses\", we’re returning the best we could have done.\n",
    "* It's less opinionated. We'll leave decisions up to our function’s users. It would be easy to wrap our function in a helper function to decide if it’s worth making a purchase.\n",
    "* We allow ourselves to collect better data. It matters if we would have lost money, and it matters how much we would have lost. If we’re trying to get rich, we’ll probably care about those numbers.\n",
    "\n",
    "How can we adjust our function to return a negative profit if we can only lose money? Initializing max_profit to 0 won’t work...\n",
    "\n",
    "Well, we started our min_price at the first price, so let’s start our max_profit at the first profit we could get—if we buy at the first time and sell at the second time.\n",
    "\n",
    "> ```python\n",
    "> min_price = stock_prices_yesterday[0]\n",
    "> max_profit = stock_prices_yesterday[1] - stock_prices_yesterday[0]\n",
    "> ```\n",
    "\n",
    "But we have the potential for an index out of bounds error here, if stock_prices_yesterday has fewer than 2 prices.\n",
    "\n",
    "We do want to throw an error in that case, since profit requires buying and selling, which we can't do with less than 2 prices. So rather than throwing a confusing index out of bounds error, let's explicitly catch that case and throw a more helpful error message:\n",
    "\n",
    "> ```python\n",
    "> if len(stock_prices_yesterday) < 2:\n",
    ">     raise IndexError('Getting a profit requires at least 2 prices')\n",
    "> \n",
    "> min_price = stock_prices_yesterday[0]\n",
    "> max_profit = stock_prices_yesterday[1] - stock_prices_yesterday[0]\n",
    "> \n",
    "> # etc...\n",
    "> ```\n",
    "\n",
    "Ok, does that work?\n",
    "\n",
    "No! max_profit is still always 0! What’s happening?\n",
    "\n",
    "If the price always goes down, min_price is always set to the current_price. So current_price - min_price comes out to 0, which of course will always be greater than a negative profit.\n",
    "\n",
    "When we’re calculating the max_profit, we need to make sure we never have a case where we try both buying and selling stocks at the current_price.\n",
    "\n",
    "To make sure we’re always buying at an earlier price, never the current_price, let’s switch the order around so we calculate max_profit before we update min_price.\n",
    "\n",
    "We'll also need to pay special attention to time 0. Make sure we don't try to buy and sell at time 0!\n",
    "\n",
    "# Solution\n",
    "\n",
    "We’ll greedily ↴ walk through the list to track the max profit and lowest price so far.\n",
    "\n",
    "> A greedy algorithm iterates through the problem space taking the optimal solution \"so far,\" until it reaches the end.\n",
    "\n",
    "> The greedy approach is only optimal if the problem has \"optimal substructure,\" which means stitching together optimal solutions to subproblems yields an optimal solution.\n",
    "\n",
    "For every price, we is_parens_balanced if:\n",
    "\n",
    "* we can get a better profit by buying at min_price and selling at the current_price\n",
    "* we have a new min_price\n",
    "\n",
    "To start, we initialize:\n",
    "\n",
    "1. min_price as the first price of the day\n",
    "1. max_profit as the first profit we could get\n",
    "\n",
    "We decided to return a negative profit if the price decreases all day and we can't make any money. We could have thrown an error instead, but returning the negative profit is cleaner, makes our function less opinionated, and ensures we don't lose information."
   ]
  },
  {
   "cell_type": "code",
   "execution_count": null,
   "metadata": {
    "collapsed": true
   },
   "outputs": [],
   "source": [
    "def get_max_profit(stock_prices_yesterday):\n",
    "\n",
    "    # make sure we have at least 2 prices\n",
    "    if len(stock_prices_yesterday) < 2:\n",
    "        raise IndexError('Getting a profit requires at least 2 prices')\n",
    "\n",
    "    # we'll greedily update min_price and max_profit, so we initialize\n",
    "    # them to the first price and the first possible profit\n",
    "    min_price = stock_prices_yesterday[0]\n",
    "    max_profit = stock_prices_yesterday[1] - stock_prices_yesterday[0]\n",
    "\n",
    "    for index, current_price in enumerate(stock_prices_yesterday):\n",
    "\n",
    "        # skip the first (0th) time\n",
    "        # we can't sell at the first time, since we must buy first,\n",
    "        # and we can't buy and sell at the same time!\n",
    "        # if we took this out, we'd try to buy /and/ sell at time 0.\n",
    "        # this would give a profit of 0, which is a problem if our\n",
    "        # max_profit is supposed to be /negative/--we'd return 0!\n",
    "        if index == 0:\n",
    "            continue\n",
    "\n",
    "        # see what our profit would be if we bought at the\n",
    "        # min price and sold at the current price\n",
    "        potential_profit = current_price - min_price\n",
    "\n",
    "        # update max_profit if we can do better\n",
    "        max_profit = max(max_profit, potential_profit)\n",
    "\n",
    "        # update min_price so it's always\n",
    "        # the lowest price we've seen so far\n",
    "        min_price  = min(min_price, current_price)\n",
    "\n",
    "    return max_profit"
   ]
  },
  {
   "cell_type": "markdown",
   "metadata": {},
   "source": [
    "# Complexity\n",
    "\n",
    "O(n) time and O(1) space. We only loop through the list once.\n",
    "\n",
    "# What We Learned\n",
    "\n",
    "This one's a good example of the greedy ↴ approach in action. Greedy approaches are great because they're fast (usually just one pass through the input). But they don't work for every problem.\n",
    "\n",
    "How do you know if a problem will lend itself to a greedy approach? Best bet is to try it out and see if it works. Trying out a greedy approach should be one of the first ways you try to break down a new question.\n",
    "\n",
    "To try it on a new problem, start by asking yourself:\n",
    "\n",
    "\"Suppose we could come up with the answer in one pass through the input, by simply updating the 'best answer so far' as we went. What additional values would we need to keep updated as we looked at each item in our set, in order to be able to update the 'best answer so far' in constant time?\"\n",
    "\n",
    "In this case:\n",
    "\n",
    "The \"best answer so far\" is, of course, the max profit that we can get based on the prices we've seen so far.\n",
    "\n",
    "The \"additional value\" is the minimum price we've seen so far. If we keep that updated, we can use it to calculate the new max profit so far in constant time. The max profit is the larger of:\n",
    "\n",
    "* The previous max profit\n",
    "* The max profit we can get by selling now (the current price minus the minimum price seen so far)\n",
    "\n",
    "Try applying this greedy methodology to future questions."
   ]
  },
  {
   "cell_type": "code",
   "execution_count": null,
   "metadata": {
    "collapsed": true
   },
   "outputs": [],
   "source": [
    ""
   ]
  }
 ],
 "metadata": {
  "kernelspec": {
   "display_name": "Python 3",
   "language": "python",
   "name": "python3"
  },
  "language_info": {
   "codemirror_mode": {
    "name": "ipython",
    "version": 3.0
   },
   "file_extension": ".py",
   "mimetype": "text/x-python",
   "name": "python",
   "nbconvert_exporter": "python",
   "pygments_lexer": "ipython3",
   "version": "3.5.2"
  }
 },
 "nbformat": 4,
 "nbformat_minor": 0
}