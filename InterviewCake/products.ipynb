{
 "cells": [
  {
   "cell_type": "markdown",
   "metadata": {
    "collapsed": true
   },
   "source": [
    "# You have a list of integers, and for each index you want to find the product of *every integer except the integer at that index*.\n",
    "\n",
    "Write a function get_products_of_all_ints_except_at_index() that takes a list of integers and returns a list of the products.\n",
    "\n",
    "For example, given:\n",
    "\n",
    "> ```python\n",
    "> [1, 7, 3, 4]\n",
    "> ```\n",
    "\n",
    "your function would return:\n",
    "\n",
    "> ```python\n",
    "> [84, 12, 28, 21]\n",
    "> ```\n",
    "\n",
    "by calculating:\n",
    "\n",
    "> ```python\n",
    "> [7*3*4, 1*3*4, 1*7*4, 1*7*3]\n",
    "> ```\n",
    "\n",
    "**Do not use division in your solution.**\n",
    "\n",
    "---"
   ]
  },
  {
   "cell_type": "markdown",
   "metadata": {},
   "source": [
    "# Gotchas\n",
    "\n",
    "Does your function work if the input list contains zeroes? Remember—no division.\n",
    "\n",
    "---\n",
    "\n",
    "We can do this in O(n) time and O(n) space!\n",
    "\n",
    "---\n",
    "\n",
    "We only need to allocate one new list of size nn.\n",
    "\n",
    "# Breakdown\n",
    "\n",
    "A brute force approach would use two loops to multiply the integer at every index by the integer at every nested_index, unless index == nested_index.\n",
    "\n",
    "This would give us a runtime of O(n^2). Can we do better?\n",
    "\n",
    "Well, we’re wasting a lot of time doing the same calculations. As an example, let's take:\n",
    "\n",
    "> ```python\n",
    ">   # input list\n",
    "> [1, 2, 6, 5, 9]\n",
    "> \n",
    "> # list of the products of all integers\n",
    "> # except the integer at each index:\n",
    "> \n",
    "> [540, 270, 90, 108, 60] # [2*6*5*9, 1*6*5*9, 1*2*5*9, 1*2*6*9, 1*2*6*5]\n",
    "> ```\n",
    "\n",
    "We're doing some of the same multiplications two or three times!\n",
    "\n",
    "When we calculate [2\\*6**\\*5\\*9**, 1\\*6**\\*5\\*9**, 1\\*2**\\*5\\*9**, 1\\*2\\*6\\*9, 1\\*2\\*6\\*5], we're calculating 5\\*9 three times: at indices 0, 1, and 2.\n",
    "\n",
    "Or look at this pattern:\n",
    "\n",
    "When we calculate [2\\*6\\*5\\*9, **1**\\*6\\*5\\*9, **1\\*2**\\*5\\*9, **1\\*2\\*6**\\*9, **1\\*2\\*6\\*5**], we have 1 in index 1, and we calculate 1\\*2 at index 2, 1\\*2\\*6 at index 3, and 1\\*2\\*6\\*5 at index 4.\n",
    "\n",
    "We’re redoing multiplications when instead we could be storing the results! This would be a great time to use a greedy ↴ approach. We could store the results of each multiplication highlighted in blue, then just multiply by one new integer each time.\n",
    "\n",
    "So in the last highlighted multiplication, for example, we wouldn’t have to multiply 1\\*2\\*6 again. If we stored that value (12) from the previous multiplication, we could just multiply 12\\*5."
   ]
  },
  {
   "cell_type": "code",
   "execution_count": null,
   "metadata": {
    "collapsed": true
   },
   "outputs": [],
   "source": []
  }
 ],
 "metadata": {
  "kernelspec": {
   "display_name": "Python 3",
   "language": "python",
   "name": "python3"
  },
  "language_info": {
   "codemirror_mode": {
    "name": "ipython",
    "version": 3
   },
   "file_extension": ".py",
   "mimetype": "text/x-python",
   "name": "python",
   "nbconvert_exporter": "python",
   "pygments_lexer": "ipython3",
   "version": "3.5.2"
  }
 },
 "nbformat": 4,
 "nbformat_minor": 0
}
