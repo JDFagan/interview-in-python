{
 "cells": [
  {
   "cell_type": "markdown",
   "metadata": {
    "collapsed": true
   },
   "source": [
    "# You have a list of integers, and for each index you want to find the product of every integer except the integer at that index.\n",
    "\n",
    "Write a function get_products_of_all_ints_except_at_index() that takes a list of integers and returns a list of the products.\n",
    "\n",
    "For example, given:\n",
    "\n",
    "> ```python\n",
    "> [1, 7, 3, 4]\n",
    "> ```\n",
    "\n",
    "your function would return:\n",
    "\n",
    "> ```python\n",
    "> [84, 12, 28, 21]\n",
    "> ```\n",
    "\n",
    "by calculating:\n",
    "\n",
    "> ```python\n",
    "> [7*3*4, 1*3*4, 1*7*4, 1*7*3]"
   ]
  }
 ],
 "metadata": {
  "kernelspec": {
   "display_name": "Python 3",
   "language": "python",
   "name": "python3"
  },
  "language_info": {
   "codemirror_mode": {
    "name": "ipython",
    "version": 3.0
   },
   "file_extension": ".py",
   "mimetype": "text/x-python",
   "name": "python",
   "nbconvert_exporter": "python",
   "pygments_lexer": "ipython3",
   "version": "3.5.2"
  }
 },
 "nbformat": 4,
 "nbformat_minor": 0
}